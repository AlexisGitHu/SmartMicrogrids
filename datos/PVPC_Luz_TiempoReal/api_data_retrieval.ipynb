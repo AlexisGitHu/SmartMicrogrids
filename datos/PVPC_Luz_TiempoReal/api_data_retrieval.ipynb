{
 "cells": [
  {
   "cell_type": "code",
   "execution_count": 26,
   "metadata": {},
   "outputs": [],
   "source": [
    "import aiohttp\n",
    "from datetime import datetime, timedelta\n"
   ]
  },
  {
   "cell_type": "code",
   "execution_count": 27,
   "metadata": {},
   "outputs": [],
   "source": [
    "async def make_request(url):\n",
    "    async with aiohttp.ClientSession() as session:\n",
    "        async with session.get(url) as response:\n",
    "            data = await response.json()\n",
    "            return data\n",
    "\n",
    "def clean_data(api_data):\n",
    "    last_hour = api_data['included'][0]['attributes']['values'][0]['value']\n",
    "    actual_hour = api_data['included'][0]['attributes']['values'][1]['value']\n",
    "    return last_hour, actual_hour"
   ]
  },
  {
   "cell_type": "code",
   "execution_count": 28,
   "metadata": {},
   "outputs": [],
   "source": [
    "current_hour = datetime.now().strftime(\"%Y-%m-%dT%H:00\")\n",
    "last_hour = (datetime.now() - timedelta(hours=1)).strftime(\"%Y-%m-%dT%H:00\")\n",
    "time_trunc=\"hour\"\n",
    "geoid=\"8741\"\n",
    "\n",
    "url = f\"https://apidatos.ree.es/es/datos/mercados/precios-mercados-tiempo-real?start_date={last_hour}&end_date={current_hour}&time_trunc={time_trunc}&geoid={geoid}\""
   ]
  },
  {
   "cell_type": "code",
   "execution_count": 29,
   "metadata": {},
   "outputs": [
    {
     "name": "stdout",
     "output_type": "stream",
     "text": [
      "(49.59, 57.93)\n"
     ]
    }
   ],
   "source": [
    "response_data = await make_request(url)\n",
    "pvpc_two_last_hours=clean_data(response_data)\n",
    "print(pvpc_two_last_hours)\n"
   ]
  }
 ],
 "metadata": {
  "kernelspec": {
   "display_name": "smart_microgids",
   "language": "python",
   "name": "python3"
  },
  "language_info": {
   "codemirror_mode": {
    "name": "ipython",
    "version": 3
   },
   "file_extension": ".py",
   "mimetype": "text/x-python",
   "name": "python",
   "nbconvert_exporter": "python",
   "pygments_lexer": "ipython3",
   "version": "3.12.1"
  }
 },
 "nbformat": 4,
 "nbformat_minor": 2
}
